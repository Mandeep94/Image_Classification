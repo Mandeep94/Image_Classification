{
 "cells": [
  {
   "cell_type": "markdown",
   "metadata": {
    "collapsed": true,
    "deletable": true,
    "editable": true
   },
   "source": [
    "# Image Classification\n",
    "In this project, you'll classify images from the [CIFAR-10 dataset](https://www.cs.toronto.edu/~kriz/cifar.html).  The dataset consists of airplanes, dogs, cats, and other objects. You'll preprocess the images, then train a convolutional neural network on all the samples. The images need to be normalized and the labels need to be one-hot encoded.  You'll get to apply what you learned and build a convolutional, max pooling, dropout, and fully connected layers.  At the end, you'll get to see your neural network's predictions on the sample images.\n",
    "## Get the Data\n",
    "Run the following cell to download the [CIFAR-10 dataset for python](https://www.cs.toronto.edu/~kriz/cifar-10-python.tar.gz)."
   ]
  },
  {
   "cell_type": "code",
   "execution_count": 1,
   "metadata": {
    "collapsed": false,
    "deletable": true,
    "editable": true
   },
   "outputs": [
    {
     "name": "stdout",
     "output_type": "stream",
     "text": [
      "All files found!\n"
     ]
    }
   ],
   "source": [
    "\"\"\"\n",
    "DON'T MODIFY ANYTHING IN THIS CELL THAT IS BELOW THIS LINE\n",
    "\"\"\"\n",
    "from urllib.request import urlretrieve\n",
    "from os.path import isfile, isdir\n",
    "from tqdm import tqdm\n",
    "import problem_unittests as tests\n",
    "import tarfile\n",
    "\n",
    "cifar10_dataset_folder_path = 'cifar-10-batches-py'\n",
    "\n",
    "class DLProgress(tqdm):\n",
    "    last_block = 0\n",
    "\n",
    "    def hook(self, block_num=1, block_size=1, total_size=None):\n",
    "        self.total = total_size\n",
    "        self.update((block_num - self.last_block) * block_size)\n",
    "        self.last_block = block_num\n",
    "\n",
    "if not isfile('cifar-10-python.tar.gz'):\n",
    "    with DLProgress(unit='B', unit_scale=True, miniters=1, desc='CIFAR-10 Dataset') as pbar:\n",
    "        urlretrieve(\n",
    "            'https://www.cs.toronto.edu/~kriz/cifar-10-python.tar.gz',\n",
    "            'cifar-10-python.tar.gz',\n",
    "            pbar.hook)\n",
    "\n",
    "if not isdir(cifar10_dataset_folder_path):\n",
    "    with tarfile.open('cifar-10-python.tar.gz') as tar:\n",
    "        tar.extractall()\n",
    "        tar.close()\n",
    "\n",
    "\n",
    "tests.test_folder_path(cifar10_dataset_folder_path)"
   ]
  },
  {
   "cell_type": "markdown",
   "metadata": {
    "deletable": true,
    "editable": true
   },
   "source": [
    "## Explore the Data\n",
    "The dataset is broken into batches to prevent your machine from running out of memory.  The CIFAR-10 dataset consists of 5 batches, named `data_batch_1`, `data_batch_2`, etc.. Each batch contains the labels and images that are one of the following:\n",
    "* airplane\n",
    "* automobile\n",
    "* bird\n",
    "* cat\n",
    "* deer\n",
    "* dog\n",
    "* frog\n",
    "* horse\n",
    "* ship\n",
    "* truck\n",
    "\n",
    "Understanding a dataset is part of making predictions on the data.  Play around with the code cell below by changing the `batch_id` and `sample_id`. The `batch_id` is the id for a batch (1-5). The `sample_id` is the id for a image and label pair in the batch.\n",
    "\n",
    "Ask yourself \"What are all possible labels?\", \"What is the range of values for the image data?\", \"Are the labels in order or random?\".  Answers to questions like these will help you preprocess the data and end up with better predictions."
   ]
  },
  {
   "cell_type": "code",
   "execution_count": 2,
   "metadata": {
    "collapsed": false,
    "deletable": true,
    "editable": true
   },
   "outputs": [
    {
     "name": "stdout",
     "output_type": "stream",
     "text": [
      "\n",
      "Stats of batch 4:\n",
      "Samples: 10000\n",
      "Label Counts: {0: 1003, 1: 963, 2: 1041, 3: 976, 4: 1004, 5: 1021, 6: 1004, 7: 981, 8: 1024, 9: 983}\n",
      "First 20 Labels: [0, 6, 0, 2, 7, 2, 1, 2, 4, 1, 5, 6, 6, 3, 1, 3, 5, 5, 8, 1]\n",
      "\n",
      "Example of Image 62:\n",
      "Image - Min Value: 13 Max Value: 255\n",
      "Image - Shape: (32, 32, 3)\n",
      "Label - Label Id: 1 Name: automobile\n"
     ]
    },
    {
     "data": {
      "image/png": "[encoded data removed]",
      "text/plain": [
       "<matplotlib.figure.Figure at 0x1406dd9c18>"
      ]
     },
     "metadata": {
      "image/png": {
       "height": 250,
       "width": 253
      }
     },
     "output_type": "display_data"
    }
   ],
   "source": [
    "%matplotlib inline\n",
    "%config InlineBackend.figure_format = 'retina'\n",
    "\n",
    "import helper\n",
    "import numpy as np\n",
    "\n",
    "# Explore the dataset\n",
    "batch_id = 4\n",
    "sample_id = 62\n",
    "helper.display_stats(cifar10_dataset_folder_path, batch_id, sample_id)"
   ]
  },
  {
   "cell_type": "markdown",
   "metadata": {
    "deletable": true,
    "editable": true
   },
   "source": [
    "## Implement Preprocess Functions\n",
    "### Normalize\n",
    "In the cell below, implement the `normalize` function to take in image data, `x`, and return it as a normalized Numpy array. The values should be in the range of 0 to 1, inclusive.  The return object should be the same shape as `x`."
   ]
  },
  {
   "cell_type": "code",
   "execution_count": 3,
   "metadata": {
    "collapsed": false,
    "deletable": true,
    "editable": true
   },
   "outputs": [
    {
     "name": "stdout",
     "output_type": "stream",
     "text": [
      "Tests Passed\n"
     ]
    }
   ],
   "source": [
    "def normalize(x):\n",
    "    \"\"\"\n",
    "    Normalize a list of sample image data in the range of 0 to 1\n",
    "    : x: List of image data.  The image shape is (32, 32, 3)\n",
    "    : return: Numpy array of normalize data\n",
    "    \"\"\"\n",
    "    # TODO: Implement Function\n",
    "    #print(x)\n",
    "    #print(x/255)\n",
    "    return (256-x)/256\n",
    "\n",
    "\n",
    "\"\"\"\n",
    "DON'T MODIFY ANYTHING IN THIS CELL THAT IS BELOW THIS LINE\n",
    "\"\"\"\n",
    "tests.test_normalize(normalize)"
   ]
  },
  {
   "cell_type": "markdown",
   "metadata": {
    "deletable": true,
    "editable": true
   },
   "source": [
    "### One-hot encode\n",
    "Just like the previous code cell, you'll be implementing a function for preprocessing.  This time, you'll implement the `one_hot_encode` function. The input, `x`, are a list of labels.  Implement the function to return the list of labels as One-Hot encoded Numpy array.  The possible values for labels are 0 to 9. The one-hot encoding function should return the same encoding for each value between each call to `one_hot_encode`.  Make sure to save the map of encodings outside the function.\n",
    "\n",
    "Hint: Don't reinvent the wheel."
   ]
  },
  {
   "cell_type": "code",
   "execution_count": 4,
   "metadata": {
    "collapsed": false,
    "deletable": true,
    "editable": true
   },
   "outputs": [
    {
     "name": "stdout",
     "output_type": "stream",
     "text": [
      "Tests Passed\n"
     ]
    }
   ],
   "source": [
    "def one_hot_encode(x):\n",
    "    \"\"\"\n",
    "    One hot encode a list of sample labels. Return a one-hot encoded vector for each label.\n",
    "    : x: List of sample Labels\n",
    "    : return: Numpy array of one-hot encoded labels\n",
    "    \"\"\"\n",
    "    # all labels are 0-9\n",
    "    # TODO: Implement Function\n",
    "    from sklearn.preprocessing import LabelBinarizer\n",
    "    enc = LabelBinarizer()\n",
    "    enc.fit([0,1,2,3,4,5,6,7,8,9])\n",
    "    return enc.transform(x)\n",
    "\n",
    "\n",
    "\"\"\"\n",
    "DON'T MODIFY ANYTHING IN THIS CELL THAT IS BELOW THIS LINE\n",
    "\"\"\"\n",
    "tests.test_one_hot_encode(one_hot_encode)"
   ]
  },
  {
   "cell_type": "markdown",
   "metadata": {
    "deletable": true,
    "editable": true
   },
   "source": [
    "### Randomize Data\n",
    "As you saw from exploring the data above, the order of the samples are randomized.  It doesn't hurt to randomize it again, but you don't need to for this dataset."
   ]
  },
  {
   "cell_type": "markdown",
   "metadata": {
    "deletable": true,
    "editable": true
   },
   "source": [
    "## Preprocess all the data and save it\n",
    "Running the code cell below will preprocess all the CIFAR-10 data and save it to file. The code below also uses 10% of the training data for validation."
   ]
  },
  {
   "cell_type": "code",
   "execution_count": 5,
   "metadata": {
    "collapsed": false,
    "deletable": true,
    "editable": true
   },
   "outputs": [],
   "source": [
    "\"\"\"\n",
    "DON'T MODIFY ANYTHING IN THIS CELL\n",
    "\"\"\"\n",
    "# Preprocess Training, Validation, and Testing Data\n",
    "helper.preprocess_and_save_data(cifar10_dataset_folder_path, normalize, one_hot_encode)"
   ]
  },
  {
   "cell_type": "markdown",
   "metadata": {
    "deletable": true,
    "editable": true
   },
   "source": [
    "# Check Point\n",
    "This is your first checkpoint.  If you ever decide to come back to this notebook or have to restart the notebook, you can start from here.  The preprocessed data has been saved to disk."
   ]
  },
  {
   "cell_type": "code",
   "execution_count": 6,
   "metadata": {
    "collapsed": true,
    "deletable": true,
    "editable": true
   },
   "outputs": [],
   "source": [
    "\"\"\"\n",
    "DON'T MODIFY ANYTHING IN THIS CELL\n",
    "\"\"\"\n",
    "import pickle\n",
    "import problem_unittests as tests\n",
    "import helper\n",
    "\n",
    "# Load the Preprocessed Validation data\n",
    "valid_features, valid_labels = pickle.load(open('preprocess_validation.p', mode='rb'))"
   ]
  },
  {
   "cell_type": "markdown",
   "metadata": {
    "deletable": true,
    "editable": true
   },
   "source": [
    "## Build the network\n",
    "For the neural network, you'll build each layer into a function.  Most of the code you've seen has been outside of functions. To test your code more thoroughly, we require that you put each layer in a function.  This allows us to give you better feedback and test for simple mistakes using our unittests before you submit your project.\n",
    "\n",
    "If you're finding it hard to dedicate enough time for this course a week, we've provided a small shortcut to this part of the project. In the next couple of problems, you'll have the option to use [TensorFlow Layers](https://www.tensorflow.org/api_docs/python/tf/layers) or [TensorFlow Layers (contrib)](https://www.tensorflow.org/api_guides/python/contrib.layers) to build each layer, except \"Convolutional & Max Pooling\" layer.  TF Layers is similar to Keras's and TFLearn's abstraction to layers, so it's easy to pickup.\n",
    "\n",
    "If you would like to get the most of this course, try to solve all the problems without TF Layers.  Let's begin!\n",
    "### Input\n",
    "The neural network needs to read the image data, one-hot encoded labels, and dropout keep probability. Implement the following functions\n",
    "* Implement `neural_net_image_input`\n",
    " * Return a [TF Placeholder](https://www.tensorflow.org/api_docs/python/tf/placeholder)\n",
    " * Set the shape using `image_shape` with batch size set to `None`.\n",
    " * Name the TensorFlow placeholder \"x\" using the TensorFlow `name` parameter in the [TF Placeholder](https://www.tensorflow.org/api_docs/python/tf/placeholder).\n",
    "* Implement `neural_net_label_input`\n",
    " * Return a [TF Placeholder](https://www.tensorflow.org/api_docs/python/tf/placeholder)\n",
    " * Set the shape using `n_classes` with batch size set to `None`.\n",
    " * Name the TensorFlow placeholder \"y\" using the TensorFlow `name` parameter in the [TF Placeholder](https://www.tensorflow.org/api_docs/python/tf/placeholder).\n",
    "* Implement `neural_net_keep_prob_input`\n",
    " * Return a [TF Placeholder](https://www.tensorflow.org/api_docs/python/tf/placeholder) for dropout keep probability.\n",
    " * Name the TensorFlow placeholder \"keep_prob\" using the TensorFlow `name` parameter in the [TF Placeholder](https://www.tensorflow.org/api_docs/python/tf/placeholder).\n",
    "\n",
    "These names will be used at the end of the project to load your saved model.\n",
    "\n",
    "Note: `None` for shapes in TensorFlow allow for a dynamic size."
   ]
  },
  {
   "cell_type": "code",
   "execution_count": 7,
   "metadata": {
    "collapsed": true,
    "deletable": true,
    "editable": true
   },
   "outputs": [],
   "source": [
    "import tensorflow as tf\n"
   ]
  },
  {
   "cell_type": "code",
   "execution_count": 8,
   "metadata": {
    "collapsed": false,
    "deletable": true,
    "editable": true
   },
   "outputs": [
    {
     "name": "stdout",
     "output_type": "stream",
     "text": [
      "Image Input Tests Passed.\n",
      "Label Input Tests Passed.\n",
      "Keep Prob Tests Passed.\n"
     ]
    }
   ],
   "source": [
    "\n",
    "def neural_net_image_input(image_shape):\n",
    "    \"\"\"\n",
    "    Return a Tensor for a bach of image input\n",
    "    : image_shape: Shape of the images\n",
    "    : return: Tensor for image input.\n",
    "    \"\"\"\n",
    "    # TODO: Implement Function\n",
    "    h,w,d = image_shape\n",
    "    #print(h)\n",
    "    return tf.placeholder(tf.float32, [None, h, w ,d], name='x')\n",
    "\n",
    "\n",
    "def neural_net_label_input(n_classes):\n",
    "    \"\"\"\n",
    "    Return a Tensor for a batch of label input\n",
    "    : n_classes: Number of classes\n",
    "    : return: Tensor for label input.\n",
    "    \"\"\"\n",
    "    # TODO: Implement Function\n",
    "    return tf.placeholder(tf.float32, [None, n_classes] , name='y')\n",
    "\n",
    "\n",
    "def neural_net_keep_prob_input():\n",
    "    \"\"\"\n",
    "    Return a Tensor for keep probability\n",
    "    : return: Tensor for keep probability.\n",
    "    \"\"\"\n",
    "    # TODO: Implement Function\n",
    "    return tf.placeholder(tf.float32, name='keep_prob')\n",
    "\n",
    "\n",
    "\"\"\"\n",
    "DON'T MODIFY ANYTHING IN THIS CELL THAT IS BELOW THIS LINE\n",
    "\"\"\"\n",
    "tf.reset_default_graph()\n",
    "tests.test_nn_image_inputs(neural_net_image_input)\n",
    "tests.test_nn_label_inputs(neural_net_label_input)\n",
    "tests.test_nn_keep_prob_inputs(neural_net_keep_prob_input)"
   ]
  },
  {
   "cell_type": "markdown",
   "metadata": {
    "deletable": true,
    "editable": true
   },
   "source": [
    "### Convolution and Max Pooling Layer\n",
    "Convolution layers have a lot of success with images. For this code cell, you should implement the function `conv2d_maxpool` to apply convolution then max pooling:\n",
    "* Create the weight and bias using `conv_ksize`, `conv_num_outputs` and the shape of `x_tensor`.\n",
    "* Apply a convolution to `x_tensor` using weight and `conv_strides`.\n",
    " * We recommend you use same padding, but you're welcome to use any padding.\n",
    "* Add bias\n",
    "* Add a nonlinear activation to the convolution.\n",
    "* Apply Max Pooling using `pool_ksize` and `pool_strides`.\n",
    " * We recommend you use same padding, but you're welcome to use any padding.\n",
    "\n",
    "Note: You **can't** use [TensorFlow Layers](https://www.tensorflow.org/api_docs/python/tf/layers) or [TensorFlow Layers (contrib)](https://www.tensorflow.org/api_guides/python/contrib.layers) for this layer.  You're free to use any TensorFlow package for all the other layers."
   ]
  },
  {
   "cell_type": "code",
   "execution_count": 40,
   "metadata": {
    "collapsed": false,
    "deletable": true,
    "editable": true,
    "scrolled": false
   },
   "outputs": [
    {
     "name": "stdout",
     "output_type": "stream",
     "text": [
      "Tests Passed\n"
     ]
    }
   ],
   "source": [
    "def conv2d_maxpool(x_tensor, conv_num_outputs, conv_ksize, conv_strides, pool_ksize, pool_strides):\n",
    "    \"\"\"\n",
    "    Apply convolution then max pooling to x_tensor\n",
    "    :param x_tensor: TensorFlow Tensor\n",
    "    :param conv_num_outputs: Number of outputs for the convolutional layer\n",
    "    :param conv_strides: Stride 2-D Tuple for convolution\n",
    "    :param pool_ksize: kernal size 2-D Tuple for pool\n",
    "    :param pool_strides: Stride 2-D Tuple for pool\n",
    "    : return: A tensor that represents convolution and max pooling of x_tensor\n",
    "    \"\"\"\n",
    "    # TODO: Implement Function\n",
    "    #print(x_tensor.get_shape()[3])\n",
    "    filter_height = conv_ksize[0]\n",
    "    filter_width = conv_ksize[1]\n",
    "    filter_depth = x_tensor.get_shape().as_list()[3]\n",
    "    \n",
    "    weights = tf.Variable(tf.truncated_normal(\n",
    "        shape=[filter_height, filter_width, filter_depth, conv_num_outputs],\n",
    "        dtype=tf.float32, \n",
    "        stddev=0.1, \n",
    "        mean=0.0))\n",
    "    \n",
    "    biases = tf.Variable(tf.truncated_normal(shape=[conv_num_outputs], \n",
    "                                            mean=0.0,\n",
    "                                            stddev=0.01))\n",
    "    \n",
    "    \n",
    "    x_tensor = tf.nn.conv2d(x_tensor, weights, [1, conv_strides[0], conv_strides[1],1], padding='SAME')\n",
    "    x_tensor =tf.nn.bias_add(x_tensor, biases)\n",
    "    #print(pool_strides[0])\n",
    "    x_tensor = tf.nn.max_pool(x_tensor, \n",
    "                              ksize=[1,pool_ksize[0], pool_ksize[1],1],\n",
    "                              strides=[1,pool_strides[0], pool_strides[1],1], \n",
    "                              padding='SAME')\n",
    "    return x_tensor \n",
    "\n",
    "\n",
    "\n",
    "\n",
    "\"\"\"\n",
    "DON'T MODIFY ANYTHING IN THIS CELL THAT IS BELOW THIS LINE\n",
    "\"\"\"\n",
    "tests.test_con_pool(conv2d_maxpool)"
   ]
  },
  {
   "cell_type": "markdown",
   "metadata": {
    "deletable": true,
    "editable": true
   },
   "source": [
    "### Flatten Layer\n",
    "Implement the `flatten` function to change the dimension of `x_tensor` from a 4-D tensor to a 2-D tensor.  The output should be the shape (*Batch Size*, *Flattened Image Size*). You can use [TensorFlow Layers](https://www.tensorflow.org/api_docs/python/tf/layers) or [TensorFlow Layers (contrib)](https://www.tensorflow.org/api_guides/python/contrib.layers) for this layer."
   ]
  },
  {
   "cell_type": "code",
   "execution_count": 41,
   "metadata": {
    "collapsed": false,
    "deletable": true,
    "editable": true
   },
   "outputs": [
    {
     "name": "stdout",
     "output_type": "stream",
     "text": [
      "Tests Passed\n"
     ]
    }
   ],
   "source": [
    "def flatten(x_tensor):\n",
    "    \"\"\"\n",
    "    Flatten x_tensor to (Batch Size, Flattened Image Size)\n",
    "    : x_tensor: A tensor of size (Batch Size, ...), where ... are the image dimensions.\n",
    "    : return: A tensor of size (Batch Size, Flattened Image Size).\n",
    "    \"\"\"\n",
    "    # TODO: Implement Function\n",
    "    num_images = height = x_tensor.get_shape().as_list()[0]\n",
    "    height = x_tensor.get_shape().as_list()[1]\n",
    "    width = x_tensor.get_shape().as_list()[2]\n",
    "    depth = x_tensor.get_shape().as_list()[3]\n",
    "    shape= height * width * depth\n",
    "    x_tensor = tf.reshape(x_tensor, [-1, shape])\n",
    "    return x_tensor\n",
    "\n",
    "\n",
    "\"\"\"\n",
    "DON'T MODIFY ANYTHING IN THIS CELL THAT IS BELOW THIS LINE\n",
    "\"\"\"\n",
    "tests.test_flatten(flatten)"
   ]
  },
  {
   "cell_type": "markdown",
   "metadata": {
    "deletable": true,
    "editable": true
   },
   "source": [
    "### Fully-Connected Layer\n",
    "Implement the `fully_conn` function to apply a fully connected layer to `x_tensor` with the shape (*Batch Size*, *num_outputs*). You can use [TensorFlow Layers](https://www.tensorflow.org/api_docs/python/tf/layers) or [TensorFlow Layers (contrib)](https://www.tensorflow.org/api_guides/python/contrib.layers) for this layer."
   ]
  },
  {
   "cell_type": "code",
   "execution_count": 42,
   "metadata": {
    "collapsed": false,
    "deletable": true,
    "editable": true
   },
   "outputs": [
    {
     "name": "stdout",
     "output_type": "stream",
     "text": [
      "Tests Passed\n"
     ]
    }
   ],
   "source": [
    "def fully_conn(x_tensor, num_outputs):\n",
    "    \"\"\"\n",
    "    Apply a fully connected layer to x_tensor using weight and bias\n",
    "    : x_tensor: A 2-D tensor where the first dimension is batch size.\n",
    "    : num_outputs: The number of output that the new tensor should be.\n",
    "    : return: A 2-D tensor where the second dimension is num_outputs.\n",
    "    \"\"\"\n",
    "    # TODO: Implement Function\n",
    "    weights = tf.Variable(tf.truncated_normal(\n",
    "        shape=[x_tensor.get_shape().as_list()[1], num_outputs], \n",
    "        dtype=tf.float32, \n",
    "        stddev=0.1, mean=0.0))\n",
    "    \n",
    "    biases = tf.Variable(tf.truncated_normal(shape=[num_outputs], stddev=0.01, mean=0.0))\n",
    "\n",
    "    x_tensor = tf.add(tf.matmul(x_tensor, weights), biases)\n",
    "    x_tensor = tf.nn.relu(x_tensor)\n",
    "    return x_tensor\n",
    "\n",
    "\n",
    "\"\"\"\n",
    "DON'T MODIFY ANYTHING IN THIS CELL THAT IS BELOW THIS LINE\n",
    "\"\"\"\n",
    "tests.test_fully_conn(fully_conn)"
   ]
  },
  {
   "cell_type": "markdown",
   "metadata": {
    "deletable": true,
    "editable": true
   },
   "source": [
    "### Output Layer\n",
    "Implement the `output` function to apply a fully connected layer to `x_tensor` with the shape (*Batch Size*, *num_outputs*). You can use [TensorFlow Layers](https://www.tensorflow.org/api_docs/python/tf/layers) or [TensorFlow Layers (contrib)](https://www.tensorflow.org/api_guides/python/contrib.layers) for this layer.\n",
    "\n",
    "Note: Activation, softmax, or cross entropy shouldn't be applied to this."
   ]
  },
  {
   "cell_type": "code",
   "execution_count": 43,
   "metadata": {
    "collapsed": false,
    "deletable": true,
    "editable": true
   },
   "outputs": [
    {
     "name": "stdout",
     "output_type": "stream",
     "text": [
      "Tests Passed\n"
     ]
    }
   ],
   "source": [
    "def output(x_tensor, num_outputs):\n",
    "    \"\"\"\n",
    "    Apply a output layer to x_tensor using weight and bias\n",
    "    : x_tensor: A 2-D tensor where the first dimension is batch size.\n",
    "    : num_outputs: The number of output that the new tensor should be.\n",
    "    : return: A 2-D tensor where the second dimension is num_outputs.\n",
    "    \"\"\"\n",
    "    # TODO: Implement Function\n",
    "    weights = tf.Variable(tf.truncated_normal(shape=[x_tensor.get_shape().as_list()[-1], num_outputs], \n",
    "                                              dtype=tf.float32, \n",
    "                                              mean=0.0, \n",
    "                                              stddev=0.08))\n",
    "    \n",
    "    biases = tf.Variable(tf.truncated_normal(shape=[num_outputs], mean=0.5, stddev=0.01))\n",
    "\n",
    "    x_tensor = tf.add(tf.matmul(x_tensor, weights), biases)\n",
    "    return x_tensor\n",
    "\n",
    "\n",
    "\"\"\"\n",
    "DON'T MODIFY ANYTHING IN THIS CELL THAT IS BELOW THIS LINE\n",
    "\"\"\"\n",
    "tests.test_output(output)"
   ]
  },
  {
   "cell_type": "markdown",
   "metadata": {
    "deletable": true,
    "editable": true
   },
   "source": [
    "### Create Convolutional Model\n",
    "Implement the function `conv_net` to create a convolutional neural network model. The function takes in a batch of images, `x`, and outputs logits.  Use the layers you created above to create this model:\n",
    "\n",
    "* Apply 1, 2, or 3 Convolution and Max Pool layers\n",
    "* Apply a Flatten Layer\n",
    "* Apply 1, 2, or 3 Fully Connected Layers\n",
    "* Apply an Output Layer\n",
    "* Return the output\n",
    "* Apply [TensorFlow's Dropout](https://www.tensorflow.org/api_docs/python/tf/nn/dropout) to one or more layers in the model using `keep_prob`. "
   ]
  },
  {
   "cell_type": "code",
   "execution_count": 44,
   "metadata": {
    "collapsed": false,
    "deletable": true,
    "editable": true
   },
   "outputs": [
    {
     "name": "stdout",
     "output_type": "stream",
     "text": [
      "Neural Network Built!\n"
     ]
    }
   ],
   "source": [
    "def conv_net(x, keep_prob):\n",
    "    \"\"\"\n",
    "    Create a convolutional neural network model\n",
    "    : x: Placeholder tensor that holds image data.\n",
    "    : keep_prob: Placeholder tensor that hold dropout keep probability.\n",
    "    : return: Tensor that represents logits\n",
    "    \"\"\"\n",
    "    # TODO: Apply 1, 2, or 3 Convolution and Max Pool layers\n",
    "    #    Play around with different number of outputs, kernel size and stride\n",
    "    # Function Definition from Above:\n",
    "    layer1 = conv2d_maxpool(x_tensor =x,\n",
    "                            conv_num_outputs = 16, \n",
    "                            conv_ksize = (5,5), \n",
    "                            conv_strides =(1,1), \n",
    "                            pool_ksize = (2,2),\n",
    "                            pool_strides=(1,1))\n",
    "    \n",
    "    #layer1 = tf.nn.dropout(layer1, keep_prob)\n",
    "    \n",
    "    \n",
    "    layer2 = conv2d_maxpool(x_tensor =layer1,\n",
    "                            conv_num_outputs = 32, \n",
    "                            conv_ksize = (5,5), \n",
    "                            conv_strides =(1,1), \n",
    "                            pool_ksize = (2,2),\n",
    "                            pool_strides=(1,1))\n",
    "    \n",
    "    #layer2 = tf.nn.dropout(layer2, keep_prob)\n",
    "    \n",
    "    \n",
    "    \n",
    "    layer3 = conv2d_maxpool(x_tensor =layer2,\n",
    "                            conv_num_outputs = 64, \n",
    "                            conv_ksize = (5,5), \n",
    "                            conv_strides =(1,1), \n",
    "                            pool_ksize = (2,2),\n",
    "                            pool_strides=(1,1))\n",
    "    \n",
    "    #layer3 = tf.nn.dropout(layer3, keep_prob)\n",
    "    \n",
    "    # TODO: Apply a Flatten Layer\n",
    "    # Function Definition from Above:\n",
    "    layer3 = flatten(layer1)\n",
    "    \n",
    "    \n",
    "\n",
    "    # TODO: Apply 1, 2, or 3 Fully Connected Layers\n",
    "    #    Play around with different number of outputs\n",
    "    # Function Definition from Above:\n",
    "    layer4 = fully_conn(layer3, \n",
    "                        num_outputs=512)\n",
    "    layer4 = tf.nn.dropout(layer4, keep_prob)\n",
    "    \n",
    "    layer5 = fully_conn(layer4, \n",
    "                        num_outputs=1024)\n",
    "    \n",
    "    # TODO: Apply an Output Layer\n",
    "    #    Set this to the number of classes\n",
    "    # Function Definition from Above:\n",
    "    layer5 = output(layer4, \n",
    "                    num_outputs=10)\n",
    "    \n",
    "    \n",
    "    # TODO: return output\n",
    "    return layer5\n",
    "\n",
    "\n",
    "\"\"\"\n",
    "DON'T MODIFY ANYTHING IN THIS CELL THAT IS BELOW THIS LINE\n",
    "\"\"\"\n",
    "\n",
    "##############################\n",
    "## Build the Neural Network ##\n",
    "##############################\n",
    "\n",
    "# Remove previous weights, bias, inputs, etc..\n",
    "tf.reset_default_graph()\n",
    "\n",
    "# Inputs\n",
    "x = neural_net_image_input((32, 32, 3))\n",
    "y = neural_net_label_input(10)\n",
    "keep_prob = neural_net_keep_prob_input()\n",
    "\n",
    "# Model\n",
    "logits = conv_net(x, keep_prob)\n",
    "\n",
    "# Name logits Tensor, so that is can be loaded from disk after training\n",
    "logits = tf.identity(logits, name='logits')\n",
    "\n",
    "# Loss and Optimizer\n",
    "cost = tf.reduce_mean(tf.nn.softmax_cross_entropy_with_logits(logits=logits, labels=y))\n",
    "optimizer = tf.train.AdamOptimizer().minimize(cost)\n",
    "\n",
    "# Accuracy\n",
    "correct_pred = tf.equal(tf.argmax(logits, 1), tf.argmax(y, 1))\n",
    "accuracy = tf.reduce_mean(tf.cast(correct_pred, tf.float32), name='accuracy')\n",
    "\n",
    "tests.test_conv_net(conv_net)"
   ]
  },
  {
   "cell_type": "markdown",
   "metadata": {
    "deletable": true,
    "editable": true
   },
   "source": [
    "## Train the Neural Network\n",
    "### Single Optimization\n",
    "Implement the function `train_neural_network` to do a single optimization.  The optimization should use `optimizer` to optimize in `session` with a `feed_dict` of the following:\n",
    "* `x` for image input\n",
    "* `y` for labels\n",
    "* `keep_prob` for keep probability for dropout\n",
    "\n",
    "This function will be called for each batch, so `tf.global_variables_initializer()` has already been called.\n",
    "\n",
    "Note: Nothing needs to be returned. This function is only optimizing the neural network."
   ]
  },
  {
   "cell_type": "code",
   "execution_count": 45,
   "metadata": {
    "collapsed": false,
    "deletable": true,
    "editable": true
   },
   "outputs": [
    {
     "name": "stdout",
     "output_type": "stream",
     "text": [
      "Tests Passed\n"
     ]
    }
   ],
   "source": [
    "def train_neural_network(session, optimizer, keep_probability, feature_batch, label_batch):\n",
    "    \"\"\"\n",
    "    Optimize the session on a batch of images and labels\n",
    "    : session: Current TensorFlow session\n",
    "    : optimizer: TensorFlow optimizer function\n",
    "    : keep_probability: keep probability\n",
    "    : feature_batch: Batch of Numpy image data\n",
    "    : label_batch: Batch of Numpy label data\n",
    "    \"\"\"\n",
    "    # TODO: Implement Function\n",
    "    session.run(optimizer, \n",
    "               feed_dict={\n",
    "                   x:feature_batch,\n",
    "                   y:label_batch,\n",
    "                   keep_prob :keep_probability\n",
    "               })\n",
    "    \n",
    "\n",
    "\n",
    "\"\"\"\n",
    "DON'T MODIFY ANYTHING IN THIS CELL THAT IS BELOW THIS LINE\n",
    "\"\"\"\n",
    "tests.test_train_nn(train_neural_network)"
   ]
  },
  {
   "cell_type": "markdown",
   "metadata": {
    "deletable": true,
    "editable": true
   },
   "source": [
    "### Show Stats\n",
    "Implement the function `print_stats` to print loss and validation accuracy.  Use the global variables `valid_features` and `valid_labels` to calculate validation accuracy.  Use a keep probability of `1.0` to calculate the loss and validation accuracy."
   ]
  },
  {
   "cell_type": "code",
   "execution_count": 46,
   "metadata": {
    "collapsed": false,
    "deletable": true,
    "editable": true
   },
   "outputs": [],
   "source": [
    "def print_stats(session, feature_batch, label_batch, cost, accuracy):\n",
    "    \"\"\"\n",
    "    Print information about loss and validation accuracy\n",
    "    : session: Current TensorFlow session\n",
    "    : feature_batch: Batch of Numpy image data\n",
    "    : label_batch: Batch of Numpy label data\n",
    "    : cost: TensorFlow cost function\n",
    "    : accuracy: TensorFlow accuracy function\n",
    "    \"\"\"\n",
    "    # TODO: Implement Function\n",
    "    cost_score = sess.run(cost, feed_dict={\n",
    "                x: valid_features,\n",
    "                y: valid_labels,\n",
    "                keep_prob: 1.})\n",
    "    accuracy_score = sess.run(accuracy, feed_dict={\n",
    "                x: valid_features,\n",
    "                y: valid_labels,\n",
    "                keep_prob: 1.})\n",
    "    print('Cost: {:>10.4f} Accuracy: {:.6f}'.format(\n",
    "                cost_score,\n",
    "                accuracy_score))"
   ]
  },
  {
   "cell_type": "markdown",
   "metadata": {
    "deletable": true,
    "editable": true
   },
   "source": [
    "### Hyperparameters\n",
    "Tune the following parameters:\n",
    "* Set `epochs` to the number of iterations until the network stops learning or start overfitting\n",
    "* Set `batch_size` to the highest number that your machine has memory for.  Most people set them to common sizes of memory:\n",
    " * 64\n",
    " * 128\n",
    " * 256\n",
    " * ...\n",
    "* Set `keep_probability` to the probability of keeping a node using dropout"
   ]
  },
  {
   "cell_type": "code",
   "execution_count": 47,
   "metadata": {
    "collapsed": true,
    "deletable": true,
    "editable": true
   },
   "outputs": [],
   "source": [
    "# TODO: Tune Parameters\n",
    "epochs = 25\n",
    "batch_size = 256\n",
    "keep_probability = 0.75"
   ]
  },
  {
   "cell_type": "markdown",
   "metadata": {
    "deletable": true,
    "editable": true
   },
   "source": [
    "### Train on a Single CIFAR-10 Batch\n",
    "Instead of training the neural network on all the CIFAR-10 batches of data, let's use a single batch. This should save time while you iterate on the model to get a better accuracy.  Once the final validation accuracy is 50% or greater, run the model on all the data in the next section."
   ]
  },
  {
   "cell_type": "code",
   "execution_count": 48,
   "metadata": {
    "collapsed": false,
    "deletable": true,
    "editable": true
   },
   "outputs": [
    {
     "name": "stdout",
     "output_type": "stream",
     "text": [
      "Checking the Training on a Single Batch...\n",
      "Epoch  1, CIFAR-10 Batch 1:  Cost:     1.8641 Accuracy: 0.344200\n",
      "Epoch  2, CIFAR-10 Batch 1:  Cost:     1.6753 Accuracy: 0.424800\n",
      "Epoch  3, CIFAR-10 Batch 1:  Cost:     1.5813 Accuracy: 0.454800\n",
      "Epoch  4, CIFAR-10 Batch 1:  Cost:     1.5288 Accuracy: 0.475600\n",
      "Epoch  5, CIFAR-10 Batch 1:  Cost:     1.4931 Accuracy: 0.491800\n",
      "Epoch  6, CIFAR-10 Batch 1:  Cost:     1.4729 Accuracy: 0.495600\n",
      "Epoch  7, CIFAR-10 Batch 1:  Cost:     1.4709 Accuracy: 0.501000\n",
      "Epoch  8, CIFAR-10 Batch 1:  Cost:     1.4686 Accuracy: 0.506000\n",
      "Epoch  9, CIFAR-10 Batch 1:  Cost:     1.4874 Accuracy: 0.497200\n",
      "Epoch 10, CIFAR-10 Batch 1:  Cost:     1.4827 Accuracy: 0.511000\n",
      "Epoch 11, CIFAR-10 Batch 1:  Cost:     1.4797 Accuracy: 0.512600\n",
      "Epoch 12, CIFAR-10 Batch 1:  Cost:     1.5162 Accuracy: 0.507400\n",
      "Epoch 13, CIFAR-10 Batch 1:  Cost:     1.5274 Accuracy: 0.513600\n",
      "Epoch 14, CIFAR-10 Batch 1:  Cost:     1.6363 Accuracy: 0.497200\n",
      "Epoch 15, CIFAR-10 Batch 1:  Cost:     1.5365 Accuracy: 0.521000\n",
      "Epoch 16, CIFAR-10 Batch 1:  Cost:     1.6250 Accuracy: 0.499400\n",
      "Epoch 17, CIFAR-10 Batch 1:  Cost:     1.6058 Accuracy: 0.516600\n",
      "Epoch 18, CIFAR-10 Batch 1:  Cost:     1.6232 Accuracy: 0.522000\n",
      "Epoch 19, CIFAR-10 Batch 1:  Cost:     1.6303 Accuracy: 0.520200\n",
      "Epoch 20, CIFAR-10 Batch 1:  Cost:     1.7940 Accuracy: 0.485200\n",
      "Epoch 21, CIFAR-10 Batch 1:  Cost:     1.6959 Accuracy: 0.512200\n",
      "Epoch 22, CIFAR-10 Batch 1:  Cost:     1.7214 Accuracy: 0.520000\n",
      "Epoch 23, CIFAR-10 Batch 1:  Cost:     1.7739 Accuracy: 0.506200\n",
      "Epoch 24, CIFAR-10 Batch 1:  Cost:     1.7915 Accuracy: 0.509000\n",
      "Epoch 25, CIFAR-10 Batch 1:  Cost:     1.9839 Accuracy: 0.511000\n"
     ]
    }
   ],
   "source": [
    "\"\"\"\n",
    "DON'T MODIFY ANYTHING IN THIS CELL\n",
    "\"\"\"\n",
    "print('Checking the Training on a Single Batch...')\n",
    "with tf.Session() as sess:\n",
    "    # Initializing the variables\n",
    "    sess.run(tf.global_variables_initializer())\n",
    "    \n",
    "    # Training cycle\n",
    "    for epoch in range(epochs):\n",
    "        batch_i = 1\n",
    "        for batch_features, batch_labels in helper.load_preprocess_training_batch(batch_i, batch_size):\n",
    "            train_neural_network(sess, optimizer, keep_probability, batch_features, batch_labels)\n",
    "        print('Epoch {:>2}, CIFAR-10 Batch {}:  '.format(epoch + 1, batch_i), end='')\n",
    "        print_stats(sess, batch_features, batch_labels, cost, accuracy)"
   ]
  },
  {
   "cell_type": "markdown",
   "metadata": {
    "deletable": true,
    "editable": true
   },
   "source": [
    "### Fully Train the Model\n",
    "Now that you got a good accuracy with a single CIFAR-10 batch, try it with all five batches."
   ]
  },
  {
   "cell_type": "code",
   "execution_count": 49,
   "metadata": {
    "collapsed": false,
    "deletable": true,
    "editable": true
   },
   "outputs": [
    {
     "name": "stdout",
     "output_type": "stream",
     "text": [
      "Training...\n",
      "Epoch  1, CIFAR-10 Batch 1:  Cost:     1.9956 Accuracy: 0.297200\n",
      "Epoch  1, CIFAR-10 Batch 2:  Cost:     1.8187 Accuracy: 0.370400\n",
      "Epoch  1, CIFAR-10 Batch 3:  Cost:     1.7270 Accuracy: 0.386200\n",
      "Epoch  1, CIFAR-10 Batch 4:  Cost:     1.6557 Accuracy: 0.427000\n",
      "Epoch  1, CIFAR-10 Batch 5:  Cost:     1.5846 Accuracy: 0.448000\n",
      "Epoch  2, CIFAR-10 Batch 1:  Cost:     1.5660 Accuracy: 0.446400\n",
      "Epoch  2, CIFAR-10 Batch 2:  Cost:     1.4891 Accuracy: 0.477600\n",
      "Epoch  2, CIFAR-10 Batch 3:  Cost:     1.4756 Accuracy: 0.482600\n",
      "Epoch  2, CIFAR-10 Batch 4:  Cost:     1.4417 Accuracy: 0.491800\n",
      "Epoch  2, CIFAR-10 Batch 5:  Cost:     1.4518 Accuracy: 0.484000\n",
      "Epoch  3, CIFAR-10 Batch 1:  Cost:     1.4440 Accuracy: 0.500600\n",
      "Epoch  3, CIFAR-10 Batch 2:  Cost:     1.3894 Accuracy: 0.513200\n",
      "Epoch  3, CIFAR-10 Batch 3:  Cost:     1.3810 Accuracy: 0.513400\n",
      "Epoch  3, CIFAR-10 Batch 4:  Cost:     1.3425 Accuracy: 0.528800\n",
      "Epoch  3, CIFAR-10 Batch 5:  Cost:     1.3544 Accuracy: 0.521600\n",
      "Epoch  4, CIFAR-10 Batch 1:  Cost:     1.3772 Accuracy: 0.521000\n",
      "Epoch  4, CIFAR-10 Batch 2:  Cost:     1.2996 Accuracy: 0.543800\n",
      "Epoch  4, CIFAR-10 Batch 3:  Cost:     1.3274 Accuracy: 0.533600\n",
      "Epoch  4, CIFAR-10 Batch 4:  Cost:     1.2968 Accuracy: 0.545600\n",
      "Epoch  4, CIFAR-10 Batch 5:  Cost:     1.2826 Accuracy: 0.553200\n",
      "Epoch  5, CIFAR-10 Batch 1:  Cost:     1.2886 Accuracy: 0.545600\n",
      "Epoch  5, CIFAR-10 Batch 2:  Cost:     1.2443 Accuracy: 0.562600\n",
      "Epoch  5, CIFAR-10 Batch 3:  Cost:     1.2489 Accuracy: 0.558600\n",
      "Epoch  5, CIFAR-10 Batch 4:  Cost:     1.2482 Accuracy: 0.558800\n",
      "Epoch  5, CIFAR-10 Batch 5:  Cost:     1.2572 Accuracy: 0.555600\n",
      "Epoch  6, CIFAR-10 Batch 1:  Cost:     1.2452 Accuracy: 0.565000\n",
      "Epoch  6, CIFAR-10 Batch 2:  Cost:     1.2197 Accuracy: 0.574600\n",
      "Epoch  6, CIFAR-10 Batch 3:  Cost:     1.2181 Accuracy: 0.577400\n",
      "Epoch  6, CIFAR-10 Batch 4:  Cost:     1.2343 Accuracy: 0.572400\n",
      "Epoch  6, CIFAR-10 Batch 5:  Cost:     1.2322 Accuracy: 0.569000\n",
      "Epoch  7, CIFAR-10 Batch 1:  Cost:     1.2566 Accuracy: 0.567600\n",
      "Epoch  7, CIFAR-10 Batch 2:  Cost:     1.1925 Accuracy: 0.584600\n",
      "Epoch  7, CIFAR-10 Batch 3:  Cost:     1.1909 Accuracy: 0.580200\n",
      "Epoch  7, CIFAR-10 Batch 4:  Cost:     1.1974 Accuracy: 0.587000\n",
      "Epoch  7, CIFAR-10 Batch 5:  Cost:     1.2319 Accuracy: 0.572000\n",
      "Epoch  8, CIFAR-10 Batch 1:  Cost:     1.2158 Accuracy: 0.581600\n",
      "Epoch  8, CIFAR-10 Batch 2:  Cost:     1.1666 Accuracy: 0.595200\n",
      "Epoch  8, CIFAR-10 Batch 3:  Cost:     1.1851 Accuracy: 0.597400\n",
      "Epoch  8, CIFAR-10 Batch 4:  Cost:     1.2037 Accuracy: 0.587400\n",
      "Epoch  8, CIFAR-10 Batch 5:  Cost:     1.1781 Accuracy: 0.593000\n",
      "Epoch  9, CIFAR-10 Batch 1:  Cost:     1.2079 Accuracy: 0.585600\n",
      "Epoch  9, CIFAR-10 Batch 2:  Cost:     1.1579 Accuracy: 0.599000\n",
      "Epoch  9, CIFAR-10 Batch 3:  Cost:     1.2379 Accuracy: 0.588000\n",
      "Epoch  9, CIFAR-10 Batch 4:  Cost:     1.2222 Accuracy: 0.591600\n",
      "Epoch  9, CIFAR-10 Batch 5:  Cost:     1.2671 Accuracy: 0.579000\n",
      "Epoch 10, CIFAR-10 Batch 1:  Cost:     1.1963 Accuracy: 0.598200\n",
      "Epoch 10, CIFAR-10 Batch 2:  Cost:     1.1824 Accuracy: 0.603800\n",
      "Epoch 10, CIFAR-10 Batch 3:  Cost:     1.1746 Accuracy: 0.601400\n",
      "Epoch 10, CIFAR-10 Batch 4:  Cost:     1.1677 Accuracy: 0.606600\n",
      "Epoch 10, CIFAR-10 Batch 5:  Cost:     1.1928 Accuracy: 0.593800\n",
      "Epoch 11, CIFAR-10 Batch 1:  Cost:     1.1830 Accuracy: 0.605200\n",
      "Epoch 11, CIFAR-10 Batch 2:  Cost:     1.2124 Accuracy: 0.592800\n",
      "Epoch 11, CIFAR-10 Batch 3:  Cost:     1.1808 Accuracy: 0.606800\n",
      "Epoch 11, CIFAR-10 Batch 4:  Cost:     1.2196 Accuracy: 0.601200\n",
      "Epoch 11, CIFAR-10 Batch 5:  Cost:     1.1663 Accuracy: 0.611800\n",
      "Epoch 12, CIFAR-10 Batch 1:  Cost:     1.1644 Accuracy: 0.619400\n",
      "Epoch 12, CIFAR-10 Batch 2:  Cost:     1.2553 Accuracy: 0.590000\n",
      "Epoch 12, CIFAR-10 Batch 3:  Cost:     1.1767 Accuracy: 0.607200\n",
      "Epoch 12, CIFAR-10 Batch 4:  Cost:     1.3016 Accuracy: 0.590800\n",
      "Epoch 12, CIFAR-10 Batch 5:  Cost:     1.1935 Accuracy: 0.617000\n",
      "Epoch 13, CIFAR-10 Batch 1:  Cost:     1.2250 Accuracy: 0.609800\n",
      "Epoch 13, CIFAR-10 Batch 2:  Cost:     1.2184 Accuracy: 0.608200\n",
      "Epoch 13, CIFAR-10 Batch 3:  Cost:     1.1973 Accuracy: 0.610800\n",
      "Epoch 13, CIFAR-10 Batch 4:  Cost:     1.2961 Accuracy: 0.601400\n",
      "Epoch 13, CIFAR-10 Batch 5:  Cost:     1.2213 Accuracy: 0.615600\n",
      "Epoch 14, CIFAR-10 Batch 1:  Cost:     1.2072 Accuracy: 0.619400\n",
      "Epoch 14, CIFAR-10 Batch 2:  Cost:     1.2392 Accuracy: 0.614800\n",
      "Epoch 14, CIFAR-10 Batch 3:  Cost:     1.2370 Accuracy: 0.615600\n",
      "Epoch 14, CIFAR-10 Batch 4:  Cost:     1.3072 Accuracy: 0.597400\n",
      "Epoch 14, CIFAR-10 Batch 5:  Cost:     1.2748 Accuracy: 0.610000\n",
      "Epoch 15, CIFAR-10 Batch 1:  Cost:     1.2278 Accuracy: 0.614000\n",
      "Epoch 15, CIFAR-10 Batch 2:  Cost:     1.2527 Accuracy: 0.612800\n",
      "Epoch 15, CIFAR-10 Batch 3:  Cost:     1.2469 Accuracy: 0.618200\n",
      "Epoch 15, CIFAR-10 Batch 4:  Cost:     1.3318 Accuracy: 0.591800\n",
      "Epoch 15, CIFAR-10 Batch 5:  Cost:     1.2824 Accuracy: 0.612600\n",
      "Epoch 16, CIFAR-10 Batch 1:  Cost:     1.2645 Accuracy: 0.619600\n",
      "Epoch 16, CIFAR-10 Batch 2:  Cost:     1.2772 Accuracy: 0.624000\n",
      "Epoch 16, CIFAR-10 Batch 3:  Cost:     1.2969 Accuracy: 0.612000\n",
      "Epoch 16, CIFAR-10 Batch 4:  Cost:     1.4321 Accuracy: 0.594800\n",
      "Epoch 16, CIFAR-10 Batch 5:  Cost:     1.3089 Accuracy: 0.618800\n",
      "Epoch 17, CIFAR-10 Batch 1:  Cost:     1.2919 Accuracy: 0.619200\n",
      "Epoch 17, CIFAR-10 Batch 2:  Cost:     1.2884 Accuracy: 0.623800\n",
      "Epoch 17, CIFAR-10 Batch 3:  Cost:     1.4395 Accuracy: 0.589200\n",
      "Epoch 17, CIFAR-10 Batch 4:  Cost:     1.4314 Accuracy: 0.595600\n",
      "Epoch 17, CIFAR-10 Batch 5:  Cost:     1.3564 Accuracy: 0.608800\n",
      "Epoch 18, CIFAR-10 Batch 1:  Cost:     1.3243 Accuracy: 0.617200\n",
      "Epoch 18, CIFAR-10 Batch 2:  Cost:     1.3417 Accuracy: 0.608000\n",
      "Epoch 18, CIFAR-10 Batch 3:  Cost:     1.3808 Accuracy: 0.600400\n",
      "Epoch 18, CIFAR-10 Batch 4:  Cost:     1.4515 Accuracy: 0.602200\n",
      "Epoch 18, CIFAR-10 Batch 5:  Cost:     1.3509 Accuracy: 0.625200\n",
      "Epoch 19, CIFAR-10 Batch 1:  Cost:     1.3671 Accuracy: 0.627200\n",
      "Epoch 19, CIFAR-10 Batch 2:  Cost:     1.3683 Accuracy: 0.618200\n",
      "Epoch 19, CIFAR-10 Batch 3:  Cost:     1.3609 Accuracy: 0.621400\n",
      "Epoch 19, CIFAR-10 Batch 4:  Cost:     1.4112 Accuracy: 0.614800\n",
      "Epoch 19, CIFAR-10 Batch 5:  Cost:     1.4115 Accuracy: 0.621400\n",
      "Epoch 20, CIFAR-10 Batch 1:  Cost:     1.4382 Accuracy: 0.619200\n",
      "Epoch 20, CIFAR-10 Batch 2:  Cost:     1.4444 Accuracy: 0.606000\n",
      "Epoch 20, CIFAR-10 Batch 3:  Cost:     1.4710 Accuracy: 0.606400\n",
      "Epoch 20, CIFAR-10 Batch 4:  Cost:     1.5041 Accuracy: 0.604600\n",
      "Epoch 20, CIFAR-10 Batch 5:  Cost:     1.4623 Accuracy: 0.626200\n",
      "Epoch 21, CIFAR-10 Batch 1:  Cost:     1.4122 Accuracy: 0.623200\n",
      "Epoch 21, CIFAR-10 Batch 2:  Cost:     1.4511 Accuracy: 0.612600\n",
      "Epoch 21, CIFAR-10 Batch 3:  Cost:     1.3468 Accuracy: 0.631000\n",
      "Epoch 21, CIFAR-10 Batch 4:  Cost:     1.4898 Accuracy: 0.606200\n",
      "Epoch 21, CIFAR-10 Batch 5:  Cost:     1.5397 Accuracy: 0.619800\n",
      "Epoch 22, CIFAR-10 Batch 1:  Cost:     1.4340 Accuracy: 0.620800\n",
      "Epoch 22, CIFAR-10 Batch 2:  Cost:     1.4320 Accuracy: 0.621600\n",
      "Epoch 22, CIFAR-10 Batch 3:  Cost:     1.4165 Accuracy: 0.627800\n",
      "Epoch 22, CIFAR-10 Batch 4:  Cost:     1.5494 Accuracy: 0.613400\n",
      "Epoch 22, CIFAR-10 Batch 5:  Cost:     1.5553 Accuracy: 0.628600\n",
      "Epoch 23, CIFAR-10 Batch 1:  Cost:     1.5136 Accuracy: 0.627000\n",
      "Epoch 23, CIFAR-10 Batch 2:  Cost:     1.5084 Accuracy: 0.618600\n",
      "Epoch 23, CIFAR-10 Batch 3:  Cost:     1.4554 Accuracy: 0.625600\n",
      "Epoch 23, CIFAR-10 Batch 4:  Cost:     1.4990 Accuracy: 0.626200\n",
      "Epoch 23, CIFAR-10 Batch 5:  Cost:     1.5804 Accuracy: 0.622200\n",
      "Epoch 24, CIFAR-10 Batch 1:  Cost:     1.7024 Accuracy: 0.611000\n",
      "Epoch 24, CIFAR-10 Batch 2:  Cost:     1.4301 Accuracy: 0.628400\n",
      "Epoch 24, CIFAR-10 Batch 3:  Cost:     1.5063 Accuracy: 0.616600\n",
      "Epoch 24, CIFAR-10 Batch 4:  Cost:     1.5668 Accuracy: 0.623200\n",
      "Epoch 24, CIFAR-10 Batch 5:  Cost:     1.5247 Accuracy: 0.634600\n",
      "Epoch 25, CIFAR-10 Batch 1:  Cost:     1.7459 Accuracy: 0.602200\n",
      "Epoch 25, CIFAR-10 Batch 2:  Cost:     1.5136 Accuracy: 0.629200\n",
      "Epoch 25, CIFAR-10 Batch 3:  Cost:     1.5947 Accuracy: 0.624000\n",
      "Epoch 25, CIFAR-10 Batch 4:  Cost:     1.5876 Accuracy: 0.615800\n",
      "Epoch 25, CIFAR-10 Batch 5:  Cost:     1.6318 Accuracy: 0.625400\n"
     ]
    }
   ],
   "source": [
    "\"\"\"\n",
    "DON'T MODIFY ANYTHING IN THIS CELL\n",
    "\"\"\"\n",
    "save_model_path = './image_classification'\n",
    "\n",
    "print('Training...')\n",
    "with tf.Session() as sess:\n",
    "    # Initializing the variables\n",
    "    sess.run(tf.global_variables_initializer())\n",
    "    \n",
    "    # Training cycle\n",
    "    for epoch in range(epochs):\n",
    "        # Loop over all batches\n",
    "        n_batches = 5\n",
    "        for batch_i in range(1, n_batches + 1):\n",
    "            for batch_features, batch_labels in helper.load_preprocess_training_batch(batch_i, batch_size):\n",
    "                train_neural_network(sess, optimizer, keep_probability, batch_features, batch_labels)\n",
    "            print('Epoch {:>2}, CIFAR-10 Batch {}:  '.format(epoch + 1, batch_i), end='')\n",
    "            print_stats(sess, batch_features, batch_labels, cost, accuracy)\n",
    "            \n",
    "    # Save Model\n",
    "    saver = tf.train.Saver()\n",
    "    save_path = saver.save(sess, save_model_path)"
   ]
  },
  {
   "cell_type": "markdown",
   "metadata": {
    "deletable": true,
    "editable": true
   },
   "source": [
    "# Checkpoint\n",
    "The model has been saved to disk.\n",
    "## Test Model\n",
    "Test your model against the test dataset.  This will be your final accuracy. You should have an accuracy greater than 50%. If you don't, keep tweaking the model architecture and parameters."
   ]
  },
  {
   "cell_type": "code",
   "execution_count": 51,
   "metadata": {
    "collapsed": false,
    "deletable": true,
    "editable": true
   },
   "outputs": [
    {
     "name": "stdout",
     "output_type": "stream",
     "text": [
      "Testing Accuracy: 0.61806640625\n",
      "\n"
     ]
    },
    {
     "data": {
      "image/png": "[encoded data removed]",
      "text/plain": [
       "<matplotlib.figure.Figure at 0x140ea22f98>"
      ]
     },
     "metadata": {
      "image/png": {
       "height": 319,
       "width": 355
      }
     },
     "output_type": "display_data"
    }
   ],
   "source": [
    "\"\"\"\n",
    "DON'T MODIFY ANYTHING IN THIS CELL\n",
    "\"\"\"\n",
    "%matplotlib inline\n",
    "%config InlineBackend.figure_format = 'retina'\n",
    "\n",
    "import tensorflow as tf\n",
    "import pickle\n",
    "import helper\n",
    "import random\n",
    "\n",
    "# Set batch size if not already set\n",
    "try:\n",
    "    if batch_size:\n",
    "        pass\n",
    "except NameError:\n",
    "    batch_size = 64\n",
    "\n",
    "save_model_path = './image_classification'\n",
    "n_samples = 4\n",
    "top_n_predictions = 3\n",
    "\n",
    "def test_model():\n",
    "    \"\"\"\n",
    "    Test the saved model against the test dataset\n",
    "    \"\"\"\n",
    "\n",
    "    test_features, test_labels = pickle.load(open('preprocess_training.p', mode='rb'))\n",
    "    loaded_graph = tf.Graph()\n",
    "\n",
    "    with tf.Session(graph=loaded_graph) as sess:\n",
    "        # Load model\n",
    "        loader = tf.train.import_meta_graph(save_model_path + '.meta')\n",
    "        loader.restore(sess, save_model_path)\n",
    "\n",
    "        # Get Tensors from loaded model\n",
    "        loaded_x = loaded_graph.get_tensor_by_name('x:0')\n",
    "        loaded_y = loaded_graph.get_tensor_by_name('y:0')\n",
    "        loaded_keep_prob = loaded_graph.get_tensor_by_name('keep_prob:0')\n",
    "        loaded_logits = loaded_graph.get_tensor_by_name('logits:0')\n",
    "        loaded_acc = loaded_graph.get_tensor_by_name('accuracy:0')\n",
    "        \n",
    "        # Get accuracy in batches for memory limitations\n",
    "        test_batch_acc_total = 0\n",
    "        test_batch_count = 0\n",
    "        \n",
    "        for train_feature_batch, train_label_batch in helper.batch_features_labels(test_features, test_labels, batch_size):\n",
    "            test_batch_acc_total += sess.run(\n",
    "                loaded_acc,\n",
    "                feed_dict={loaded_x: train_feature_batch, loaded_y: train_label_batch, loaded_keep_prob: 1.0})\n",
    "            test_batch_count += 1\n",
    "\n",
    "        print('Testing Accuracy: {}\\n'.format(test_batch_acc_total/test_batch_count))\n",
    "\n",
    "        # Print Random Samples\n",
    "        random_test_features, random_test_labels = tuple(zip(*random.sample(list(zip(test_features, test_labels)), n_samples)))\n",
    "        random_test_predictions = sess.run(\n",
    "            tf.nn.top_k(tf.nn.softmax(loaded_logits), top_n_predictions),\n",
    "            feed_dict={loaded_x: random_test_features, loaded_y: random_test_labels, loaded_keep_prob: 1.0})\n",
    "        helper.display_image_predictions(random_test_features, random_test_labels, random_test_predictions)\n",
    "\n",
    "\n",
    "test_model()"
   ]
  },
  {
   "cell_type": "markdown",
   "metadata": {
    "deletable": true,
    "editable": true
   },
   "source": [
    "## Why 50-70% Accuracy?\n",
    "You might be wondering why you can't get an accuracy any higher. First things first, 50% isn't bad for a simple CNN.  Pure guessing would get you 10% accuracy. However, you might notice people are getting scores [well above 70%](http://rodrigob.github.io/are_we_there_yet/build/classification_datasets_results.html#43494641522d3130).  That's because we haven't taught you all there is to know about neural networks. We still need to cover a few more techniques.\n",
    "## Submitting This Project\n",
    "When submitting this project, make sure to run all the cells before saving the notebook.  Save the notebook file as \"dlnd_image_classification.ipynb\" and save it as a HTML file under \"File\" -> \"Download as\".  Include the \"helper.py\" and \"problem_unittests.py\" files in your submission."
   ]
  }
 ],
 "metadata": {
  "kernelspec": {
   "display_name": "Python 3",
   "language": "python",
   "name": "python3"
  },
  "language_info": {
   "codemirror_mode": {
    "name": "ipython",
    "version": 3
   },
   "file_extension": ".py",
   "mimetype": "text/x-python",
   "name": "python",
   "nbconvert_exporter": "python",
   "pygments_lexer": "ipython3",
   "version": "3.5.3"
  }
 },
 "nbformat": 4,
 "nbformat_minor": 0
}
